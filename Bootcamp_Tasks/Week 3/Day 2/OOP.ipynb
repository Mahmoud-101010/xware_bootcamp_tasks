{
 "cells": [
  {
   "cell_type": "code",
   "execution_count": 1,
   "metadata": {},
   "outputs": [
    {
     "name": "stdout",
     "output_type": "stream",
     "text": [
      "Ahmed\n",
      "Sayed\n",
      "Ahmed\n",
      "Sayed\n",
      "Hello Ahmed\n"
     ]
    }
   ],
   "source": [
    "class Member:\n",
    "  def __init__(self, name):\n",
    "    self.name = name  # Public\n",
    "one = Member(\"Ahmed\")\n",
    "print(one.name)\n",
    "one.name = \"Sayed\"\n",
    "print(one.name)\n",
    "class Member:\n",
    "  def __init__(self, name):\n",
    "    self._name = name  # Protected\n",
    "one = Member(\"Ahmed\")\n",
    "print(one._name)\n",
    "one._name = \"Sayed\"\n",
    "print(one._name)\n",
    "class Member:\n",
    "  def __init__(self, name):\n",
    "    self.__name = name  # Private\n",
    "  def say_hello(self):\n",
    "    return f\"Hello {self.__name}\"\n",
    "one = Member(\"Ahmed\")\n",
    "# print(one.__name)\n",
    "print(one.say_hello())\n",
    "# print(one._Member__name)\n",
    "# one._Member__name = \"hamada\"\n",
    "# print(one._Member__name)"
   ]
  },
  {
   "cell_type": "markdown",
   "metadata": {},
   "source": [
    "class variable\n"
   ]
  },
  {
   "cell_type": "code",
   "execution_count": 1,
   "metadata": {},
   "outputs": [
    {
     "name": "stdout",
     "output_type": "stream",
     "text": [
      "1000\n",
      "1020\n",
      "100\n",
      "102\n"
     ]
    }
   ],
   "source": [
    "\n",
    "class Employee :\n",
    "    raise_amount = 0.02\n",
    "    \n",
    "    def __init__(self,first,last,pay):\n",
    "        self.first = first\n",
    "        self.last  = last\n",
    "        self.pay   = pay\n",
    "    def apply_raise(self):\n",
    "        self.pay += int(self.pay * self.raise_amount)\n",
    "        \n",
    "e1 = Employee(\"Ahmed\",\"Omar\",1000) \n",
    "print(e1.pay)\n",
    "e1.apply_raise()\n",
    "print(e1.pay)\n",
    "e2 = Employee(\"Mohammed\",\"Fathi\",100)\n",
    "print(e2.pay)\n",
    "e2.apply_raise()\n",
    "print(e2.pay)"
   ]
  },
  {
   "cell_type": "code",
   "execution_count": 2,
   "metadata": {},
   "outputs": [
    {
     "name": "stdout",
     "output_type": "stream",
     "text": [
      "Emplyee class : 0.02\n",
      "e1 instance : 0.02\n",
      "e2 instance : 0.02\n"
     ]
    }
   ],
   "source": [
    "print(\"Emplyee class : {}\".format(Employee.raise_amount))\n",
    "print(\"e1 instance : \" + str(e1.raise_amount))\n",
    "print(f\"e2 instance : {e2.raise_amount}\")"
   ]
  },
  {
   "cell_type": "code",
   "execution_count": 3,
   "metadata": {},
   "outputs": [
    {
     "name": "stdout",
     "output_type": "stream",
     "text": [
      "Emplyee class : 0.03\n",
      "e1 instance : 0.03\n",
      "e2 instance : 0.03\n"
     ]
    }
   ],
   "source": [
    "\n",
    "Employee.raise_amount = 0.03\n",
    "print(\"Emplyee class : {}\".format(Employee.raise_amount))\n",
    "print(\"e1 instance : \" + str(e1.raise_amount))\n",
    "print(f\"e2 instance : {e2.raise_amount}\")"
   ]
  },
  {
   "cell_type": "code",
   "execution_count": 4,
   "metadata": {},
   "outputs": [
    {
     "name": "stdout",
     "output_type": "stream",
     "text": [
      "Emplyee class : 0.03\n",
      "e1 instance : 0.05\n",
      "e2 instance : 0.03\n"
     ]
    }
   ],
   "source": [
    "e1.raise_amount = 0.05\n",
    "print(\"Emplyee class : {}\".format(Employee.raise_amount))\n",
    "print(\"e1 instance : \" + str(e1.raise_amount))\n",
    "print(f\"e2 instance : {e2.raise_amount}\")"
   ]
  },
  {
   "cell_type": "markdown",
   "metadata": {},
   "source": [
    "\n",
    "class methods"
   ]
  },
  {
   "cell_type": "code",
   "execution_count": 5,
   "metadata": {},
   "outputs": [
    {
     "name": "stdout",
     "output_type": "stream",
     "text": [
      "Emplyee class : 0.05\n",
      "e1 instance : 0.05\n",
      "e2 instance : 0.05\n"
     ]
    }
   ],
   "source": [
    "class Employee :\n",
    "    raise_amount = 0.02\n",
    "    \n",
    "    def __init__(self,first,last,pay):\n",
    "        self.first = first\n",
    "        self.last  = last\n",
    "        self.pay   = pay\n",
    "    def apply_raise(self):\n",
    "        self.pay += int(self.pay * self.raise_amount)\n",
    "    \n",
    "    @classmethod\n",
    "    def set_raise_amount(cls,amount):\n",
    "        cls.raise_amount = amount\n",
    "    \n",
    "e1 = Employee(\"ali\",\"ahmed\",1000)\n",
    "e2 = Employee(\"Mohammed\",\"Fathi\",100)\n",
    "Employee.set_raise_amount(0.05)\n",
    "print(\"Emplyee class : {}\".format(Employee.raise_amount))\n",
    "print(\"e1 instance : \" + str(e1.raise_amount))\n",
    "print(f\"e2 instance : {e2.raise_amount}\")\n",
    "# e1.set_raise_amount(0.10)\n",
    "# print(\"Emplyee class : {}\".format(Employee.raise_amount))\n",
    "# print(\"e1 instance : \" + str(e1.raise_amount))\n",
    "# print(f\"e2 instance : {e2.raise_amount}\")"
   ]
  },
  {
   "cell_type": "markdown",
   "metadata": {},
   "source": [
    "\n",
    "One common use of class methods is to create alternative constructors for the class.\n",
    "An alternative constructor is a way to create class instances using different parameters or from different data formats, providing flexibility and convenience to the users of the class.\n",
    "The primary constructor is typically the one defined with the class, but with class methods, you can define additional constructors."
   ]
  },
  {
   "cell_type": "code",
   "execution_count": 6,
   "metadata": {},
   "outputs": [
    {
     "name": "stdout",
     "output_type": "stream",
     "text": [
      "Mohammed\n",
      "1000\n"
     ]
    }
   ],
   "source": [
    "class Employee :\n",
    "    raise_amount = 0.02\n",
    "    \n",
    "    def __init__(self,first,last,pay):\n",
    "        self.first = first\n",
    "        self.last  = last\n",
    "        self.pay   = pay\n",
    "    def apply_raise(self):\n",
    "        self.pay += int(self.pay * self.raise_amount)\n",
    "    \n",
    "    @classmethod\n",
    "    def set_raise_amount(cls,amount):\n",
    "        cls.raise_amount = amount\n",
    "    \n",
    "    # alternative constructor\n",
    "    @classmethod\n",
    "    def from_string(cls,emp_str):\n",
    "        first,last,pay = emp_str.split('-')\n",
    "        return cls(first,last,pay)\n",
    "emp_str1 = \"Mohammed-Fathi-1000\"\n",
    "emp_str2 = \"Ahmed-Fathi-3000\"\n",
    "#alternative constructor\n",
    "new_emp_1 = Employee.from_string(emp_str1)\n",
    "print(new_emp_1.first)\n",
    "print(new_emp_1.pay)"
   ]
  },
  {
   "cell_type": "markdown",
   "metadata": {},
   "source": [
    "static Methods"
   ]
  },
  {
   "cell_type": "markdown",
   "metadata": {},
   "source": [
    "method that belongs to a class and does not depend on the instance state or any instance-specific attributes.\n",
    "It is generally used for utility functions that do not depend on the state of the instance or class."
   ]
  },
  {
   "cell_type": "code",
   "execution_count": 7,
   "metadata": {},
   "outputs": [
    {
     "name": "stdout",
     "output_type": "stream",
     "text": [
      "True\n"
     ]
    }
   ],
   "source": [
    "class Employee :\n",
    "    raise_amount = 0.02\n",
    "    \n",
    "    def __init__(self,first,last,pay):\n",
    "        self.first = first\n",
    "        self.last  = last\n",
    "        self.pay   = pay\n",
    "    def apply_raise(self):\n",
    "        self.pay += int(self.pay * self.raise_amount)\n",
    "    \n",
    "    @classmethod\n",
    "    def set_raise_amount(cls,amount):\n",
    "        cls.raise_amount = amount\n",
    "    \n",
    "    # alternative constructor\n",
    "    @classmethod\n",
    "    def from_string(cls,emp_str):\n",
    "        first,last,pay = emp_str.split('-')\n",
    "        return cls(first,last,pay)\n",
    "    \n",
    "    @staticmethod\n",
    "    def is_workday(day):\n",
    "        \"\"\"\n",
    "        sunday = 1\n",
    "        monday = 2\n",
    "        Tuesday = 3\n",
    "        Wednesday  = 4\n",
    "        Thursday = 5\n",
    "        friday = 6\n",
    "        Saturday = 7\n",
    "        \"\"\"\n",
    "        if day == \"friday\" or day == \"Saturday\":\n",
    "            return False\n",
    "        return True\n",
    "    \n",
    "e1 = Employee(\"ahmed\",\"ali\",8000)\n",
    "print(e1.is_workday(\"Wednesday\"))"
   ]
  },
  {
   "cell_type": "markdown",
   "metadata": {},
   "source": [
    "inheritance"
   ]
  },
  {
   "cell_type": "code",
   "execution_count": 8,
   "metadata": {},
   "outputs": [
    {
     "name": "stdout",
     "output_type": "stream",
     "text": [
      "Help on class Developer in module __main__:\n",
      "\n",
      "class Developer(Employee)\n",
      " |  Developer(first, last, pay)\n",
      " |  \n",
      " |  Method resolution order:\n",
      " |      Developer\n",
      " |      Employee\n",
      " |      builtins.object\n",
      " |  \n",
      " |  Methods inherited from Employee:\n",
      " |  \n",
      " |  __init__(self, first, last, pay)\n",
      " |      Initialize self.  See help(type(self)) for accurate signature.\n",
      " |  \n",
      " |  apply_raise(self)\n",
      " |  \n",
      " |  ----------------------------------------------------------------------\n",
      " |  Data descriptors inherited from Employee:\n",
      " |  \n",
      " |  __dict__\n",
      " |      dictionary for instance variables (if defined)\n",
      " |  \n",
      " |  __weakref__\n",
      " |      list of weak references to the object (if defined)\n",
      " |  \n",
      " |  ----------------------------------------------------------------------\n",
      " |  Data and other attributes inherited from Employee:\n",
      " |  \n",
      " |  raise_amount = 0.02\n",
      "\n",
      "None\n"
     ]
    }
   ],
   "source": [
    "\n",
    "class Employee :\n",
    "    raise_amount = 0.02\n",
    "    \n",
    "    def __init__(self,first,last,pay):\n",
    "        self.first = first\n",
    "        self.last  = last\n",
    "        self.pay   = pay\n",
    "    def apply_raise(self):\n",
    "        self.pay += int(self.pay * self.raise_amount)\n",
    "class Developer(Employee):\n",
    "    pass\n",
    "d1 = Developer(\"ahmed\",\"zeyad\",5000)    \n",
    "print(help(Developer)) #will show Details (what inherited from Employee)"
   ]
  },
  {
   "cell_type": "markdown",
   "metadata": {},
   "source": [
    "override class variable on child"
   ]
  },
  {
   "cell_type": "code",
   "execution_count": 9,
   "metadata": {},
   "outputs": [
    {
     "name": "stdout",
     "output_type": "stream",
     "text": [
      "-------- Employee --------\n",
      "5000\n",
      "5100\n",
      "-------- Developer --------\n",
      "5000\n",
      "5500\n"
     ]
    }
   ],
   "source": [
    "class Employee :\n",
    "    raise_amount = 0.02\n",
    "    \n",
    "    def __init__(self,first,last,pay):\n",
    "        self.first = first\n",
    "        self.last  = last\n",
    "        self.pay   = pay\n",
    "    def apply_raise(self):\n",
    "        self.pay += int(self.pay * self.raise_amount)\n",
    "class Developer(Employee):\n",
    "    raise_amount = 0.10 # does not affect the parent class\n",
    "print(\"-------- Employee --------\")\n",
    "d2 = Employee(\"mohmmed\",\"fathi\",5000)\n",
    "print(d2.pay)\n",
    "d2.apply_raise()\n",
    "print(d2.pay)\n",
    "d1 = Developer(\"ahmed\",\"zeyad\",5000)    \n",
    "print(\"-------- Developer --------\")\n",
    "print(d1.pay)\n",
    "d1.apply_raise()\n",
    "print(d1.pay)"
   ]
  },
  {
   "cell_type": "markdown",
   "metadata": {},
   "source": [
    " What if want to add extra field on child (such as add programming language on Developer Class) ? "
   ]
  },
  {
   "cell_type": "markdown",
   "metadata": {},
   "source": [
    "make a custom constructor on child class"
   ]
  },
  {
   "cell_type": "code",
   "execution_count": 10,
   "metadata": {},
   "outputs": [
    {
     "name": "stdout",
     "output_type": "stream",
     "text": [
      "mahmoud\n",
      "Java\n"
     ]
    }
   ],
   "source": [
    "class Developer(Employee):\n",
    "    def __init__(self,first,last,pay,programming_language):\n",
    "        super().__init__(first,last,pay)\n",
    "        # another way : \n",
    "        #Employee.__init__(self,first,last,pay)\n",
    "        self.programming_language = programming_language\n",
    "Dev1 = Developer(\"mahmoud\",\"zeyad\",6000,\"Java\")\n",
    "print(Dev1.first)\n",
    "print(Dev1.programming_language)"
   ]
  },
  {
   "cell_type": "markdown",
   "metadata": {},
   "source": [
    "isinstance() && issubclass()"
   ]
  },
  {
   "cell_type": "code",
   "execution_count": 11,
   "metadata": {},
   "outputs": [
    {
     "name": "stdout",
     "output_type": "stream",
     "text": [
      "True\n",
      "True\n",
      "True\n",
      "False\n"
     ]
    }
   ],
   "source": [
    "print(isinstance(Dev1,Developer))\n",
    "Developer_instance= Developer(\"mahmoud\",\"zeyad\",6000,\"Java\")\n",
    "print(isinstance(Developer_instance,Employee))\n",
    "print(issubclass(Developer,Employee))\n",
    "print(issubclass(Employee,Developer))"
   ]
  },
  {
   "cell_type": "markdown",
   "metadata": {},
   "source": [
    "multiple inheritance"
   ]
  },
  {
   "cell_type": "code",
   "execution_count": 12,
   "metadata": {},
   "outputs": [
    {
     "name": "stdout",
     "output_type": "stream",
     "text": [
      "C\n",
      "[<class '__main__.Child'>, <class '__main__.A'>, <class 'object'>]\n"
     ]
    }
   ],
   "source": [
    "class A:\n",
    "    def __init__(self):\n",
    "        print(\"A\")\n",
    "class B:\n",
    "    def __init__(self):\n",
    "        print(\"B\")\n",
    "        \n",
    "class Child(A):\n",
    "    def __init__(self):\n",
    "        print(\"C\")\n",
    "child1 = Child()\n",
    "print(Child.mro())"
   ]
  },
  {
   "cell_type": "markdown",
   "metadata": {},
   "source": [
    "Polymorphism"
   ]
  },
  {
   "cell_type": "code",
   "execution_count": 13,
   "metadata": {},
   "outputs": [
    {
     "name": "stdout",
     "output_type": "stream",
     "text": [
      "6\n",
      "14\n",
      "2\n"
     ]
    }
   ],
   "source": [
    "print(len([1, 2, 3, 4, 5, 6]))\n",
    "print(len(\"mohammed Fathi\"))\n",
    "print(len({\"Key_One\": 1, \"Key_Two\": 2}))"
   ]
  },
  {
   "cell_type": "code",
   "execution_count": 14,
   "metadata": {},
   "outputs": [],
   "source": [
    "class A:\n",
    "  def do_something(self):\n",
    "    print(\"From Class A\")\n",
    "class B(A):\n",
    "  # def do_something(self):\n",
    "    pass\n",
    "class C(A):\n",
    "  # def do_something(self):\n",
    "    pass\n",
    "obj_B = B()\n",
    "obj_C = C()"
   ]
  },
  {
   "cell_type": "code",
   "execution_count": 15,
   "metadata": {},
   "outputs": [
    {
     "name": "stdout",
     "output_type": "stream",
     "text": [
      "From Class B\n",
      "From Class C\n"
     ]
    }
   ],
   "source": [
    "class A:\n",
    "  def do_something(self):\n",
    "    print(\"From Class A\")\n",
    "    raise NotImplementedError(\"Derived Class Must Implement This Method\")\n",
    "class B(A):\n",
    "  def do_something(self):\n",
    "    print(\"From Class B\")\n",
    "    \n",
    "class C(A):\n",
    "  def do_something(self):\n",
    "    print(\"From Class C\")\n",
    "  \n",
    "obj = B()\n",
    "obj.do_something()\n",
    "obj1 = C()\n",
    "obj1.do_something()"
   ]
  },
  {
   "cell_type": "markdown",
   "metadata": {},
   "source": [
    "Composition VS aggregation"
   ]
  },
  {
   "cell_type": "code",
   "execution_count": 16,
   "metadata": {},
   "outputs": [
    {
     "name": "stdout",
     "output_type": "stream",
     "text": [
      "120100\n"
     ]
    }
   ],
   "source": [
    "# 1 - Composition (Part-of)\n",
    "class Salary:\n",
    "    def __init__(self,pay,bonus):\n",
    "        self.pay = pay\n",
    "        self.bonus = bonus\n",
    "    \n",
    "    def annual_salary(self):\n",
    "        return (self.pay*12 + self.bonus)\n",
    "    \n",
    "class Employee:\n",
    "    def __init__(self,name,age,pay,bonus):\n",
    "        self.name = name\n",
    "        self.age = age\n",
    "        self.salary_obj = Salary(pay,bonus)\n",
    "    \n",
    "    def total_salary(self):\n",
    "        return self.salary_obj.annual_salary()  # create salary object on Employee\n",
    "        # when delete employee the salary will removed\n",
    "emp = Employee(\"omar\",34,10000,100)\n",
    "print(emp.total_salary())"
   ]
  },
  {
   "cell_type": "code",
   "execution_count": 22,
   "metadata": {},
   "outputs": [
    {
     "name": "stdout",
     "output_type": "stream",
     "text": [
      "120100\n"
     ]
    }
   ],
   "source": [
    "# 2 - Aggregation (has - a)\n",
    "class Employee:\n",
    "    def __init__(self,name,age,salary_obj):\n",
    "        self.name = name\n",
    "        self.age = age\n",
    "        self.salary_obj = salary_obj\n",
    "    \n",
    "    def total_salary(self):\n",
    "        return self.salary_obj.annual_salary()  # create salary object on Employee\n",
    "        # when delete employee the salary will removed\n",
    "#Salary = Salary(10000,100) # create salary independentlyIn \n",
    "emp = Employee(\"omar\",34,Salary)\n",
    "print(emp.total_salary())"
   ]
  }
 ],
 "metadata": {
  "kernelspec": {
   "display_name": "Python 3",
   "language": "python",
   "name": "python3"
  },
  "language_info": {
   "codemirror_mode": {
    "name": "ipython",
    "version": 3
   },
   "file_extension": ".py",
   "mimetype": "text/x-python",
   "name": "python",
   "nbconvert_exporter": "python",
   "pygments_lexer": "ipython3",
   "version": "3.8.10"
  },
  "orig_nbformat": 4
 },
 "nbformat": 4,
 "nbformat_minor": 2
}
